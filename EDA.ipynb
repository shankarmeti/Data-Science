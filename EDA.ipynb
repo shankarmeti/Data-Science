{
 "cells": [
  {
   "cell_type": "markdown",
   "metadata": {},
   "source": [
    "<h1 class=\"list-group-item list-group-item-action active\" data-toggle=\"list\"  role=\"tab\" aria-controls=\"home\">Exploratory Data Analysis  </h1>\n",
    "     \n"
   ]
  },
  {
   "cell_type": "markdown",
   "metadata": {},
   "source": [
    "\n",
    "\n",
    ">#### 1. Create a dataframe using below data and answer the below questions:\n",
    "\n",
    "        Hourly_Income = [1000,2009,24418,444478,324235,243242,3434234,7567457,9235,238237,1312,3412]\n",
    "        Hourly_Expense =  [651361,217371,2746,2356,13436,5732,346346,3463,1132,23534,242235,235235]\n",
    "        family_members_count = [3,4,2,3,1,4,5,6,3,6,3,5]\n",
    "        House_rent = [1299,2300,3411,3422,4566,4211,4600,736,672,0,734,2374]\n",
    "        Highest_income_Member = [\"Olivia\",\"George\",\"Isla\",\"Harry\",\"Ava\",\"Noah\",\"Sophia\",\"Jacobi\",\"Freddie\",\"Ella\",\"Grace\",\"Ella\"]\n",
    "        \n",
    "        \n",
    ">##### A. Display the five point summary of the data. \n",
    ">##### B. What is the mean of the hourly expense?\n",
    ">##### C. What is the median of the hourly expense?\n",
    ">##### D. Find the family member with maximum income and using a suitable graph.\n",
    ">##### E. Calculate IQR(the difference between 75% and 25% quartile) for `Hourly_Income` and `Hourly_Expense`.\n",
    ">##### F. Calculate the standard deviation for first 2 columns.\n",
    ">##### G. Calculate variance for the first 4 columns"
   ]
  },
  {
   "cell_type": "code",
   "execution_count": 1,
   "metadata": {},
   "outputs": [],
   "source": [
    "import pandas as pd\n",
    "import numpy as np\n",
    "import matplotlib.pyplot as plt\n",
    "import seaborn as sns\n",
    "import warnings\n",
    "warnings.filterwarnings('ignore')\n",
    "from numpy import percentile"
   ]
  },
  {
   "cell_type": "code",
   "execution_count": 139,
   "metadata": {},
   "outputs": [],
   "source": [
    "df=pd.DataFrame({'Hourly_Income' : [1000,2009,24418,444478,324235,243242,3434234,7567457,9235,238237,1312,3412],\n",
    "    'Hourly_Expense' : [651361,217371,2746,2356,13436,5732,346346,3463,1132,23534,242235,235235],\n",
    "    'family_members_count' : [3,4,2,3,1,4,5,6,3,6,3,5],\n",
    "'House_rent' : [1299,2300,3411,3422,4566,4211,4600,736,672,0,734,2374],\n",
    "    'Highest_income_Member' :[\"Olivia\",\"George\",\"Isla\",\"Harry\",\"Ava\",\"Noah\",\"Sophia\",\"Jacobi\",\"Freddie\",\"Ella\",\"Grace\",\"Ella\"]})"
   ]
  },
  {
   "cell_type": "code",
   "execution_count": 140,
   "metadata": {},
   "outputs": [
    {
     "data": {
      "text/html": [
       "<div>\n",
       "<style scoped>\n",
       "    .dataframe tbody tr th:only-of-type {\n",
       "        vertical-align: middle;\n",
       "    }\n",
       "\n",
       "    .dataframe tbody tr th {\n",
       "        vertical-align: top;\n",
       "    }\n",
       "\n",
       "    .dataframe thead th {\n",
       "        text-align: right;\n",
       "    }\n",
       "</style>\n",
       "<table border=\"1\" class=\"dataframe\">\n",
       "  <thead>\n",
       "    <tr style=\"text-align: right;\">\n",
       "      <th></th>\n",
       "      <th>Hourly_Income</th>\n",
       "      <th>Hourly_Expense</th>\n",
       "      <th>family_members_count</th>\n",
       "      <th>House_rent</th>\n",
       "      <th>Highest_income_Member</th>\n",
       "    </tr>\n",
       "  </thead>\n",
       "  <tbody>\n",
       "    <tr>\n",
       "      <th>0</th>\n",
       "      <td>1000</td>\n",
       "      <td>651361</td>\n",
       "      <td>3</td>\n",
       "      <td>1299</td>\n",
       "      <td>Olivia</td>\n",
       "    </tr>\n",
       "    <tr>\n",
       "      <th>1</th>\n",
       "      <td>2009</td>\n",
       "      <td>217371</td>\n",
       "      <td>4</td>\n",
       "      <td>2300</td>\n",
       "      <td>George</td>\n",
       "    </tr>\n",
       "    <tr>\n",
       "      <th>2</th>\n",
       "      <td>24418</td>\n",
       "      <td>2746</td>\n",
       "      <td>2</td>\n",
       "      <td>3411</td>\n",
       "      <td>Isla</td>\n",
       "    </tr>\n",
       "    <tr>\n",
       "      <th>3</th>\n",
       "      <td>444478</td>\n",
       "      <td>2356</td>\n",
       "      <td>3</td>\n",
       "      <td>3422</td>\n",
       "      <td>Harry</td>\n",
       "    </tr>\n",
       "    <tr>\n",
       "      <th>4</th>\n",
       "      <td>324235</td>\n",
       "      <td>13436</td>\n",
       "      <td>1</td>\n",
       "      <td>4566</td>\n",
       "      <td>Ava</td>\n",
       "    </tr>\n",
       "    <tr>\n",
       "      <th>5</th>\n",
       "      <td>243242</td>\n",
       "      <td>5732</td>\n",
       "      <td>4</td>\n",
       "      <td>4211</td>\n",
       "      <td>Noah</td>\n",
       "    </tr>\n",
       "    <tr>\n",
       "      <th>6</th>\n",
       "      <td>3434234</td>\n",
       "      <td>346346</td>\n",
       "      <td>5</td>\n",
       "      <td>4600</td>\n",
       "      <td>Sophia</td>\n",
       "    </tr>\n",
       "    <tr>\n",
       "      <th>7</th>\n",
       "      <td>7567457</td>\n",
       "      <td>3463</td>\n",
       "      <td>6</td>\n",
       "      <td>736</td>\n",
       "      <td>Jacobi</td>\n",
       "    </tr>\n",
       "    <tr>\n",
       "      <th>8</th>\n",
       "      <td>9235</td>\n",
       "      <td>1132</td>\n",
       "      <td>3</td>\n",
       "      <td>672</td>\n",
       "      <td>Freddie</td>\n",
       "    </tr>\n",
       "    <tr>\n",
       "      <th>9</th>\n",
       "      <td>238237</td>\n",
       "      <td>23534</td>\n",
       "      <td>6</td>\n",
       "      <td>0</td>\n",
       "      <td>Ella</td>\n",
       "    </tr>\n",
       "    <tr>\n",
       "      <th>10</th>\n",
       "      <td>1312</td>\n",
       "      <td>242235</td>\n",
       "      <td>3</td>\n",
       "      <td>734</td>\n",
       "      <td>Grace</td>\n",
       "    </tr>\n",
       "    <tr>\n",
       "      <th>11</th>\n",
       "      <td>3412</td>\n",
       "      <td>235235</td>\n",
       "      <td>5</td>\n",
       "      <td>2374</td>\n",
       "      <td>Ella</td>\n",
       "    </tr>\n",
       "  </tbody>\n",
       "</table>\n",
       "</div>"
      ],
      "text/plain": [
       "    Hourly_Income  Hourly_Expense  family_members_count  House_rent  \\\n",
       "0            1000          651361                     3        1299   \n",
       "1            2009          217371                     4        2300   \n",
       "2           24418            2746                     2        3411   \n",
       "3          444478            2356                     3        3422   \n",
       "4          324235           13436                     1        4566   \n",
       "5          243242            5732                     4        4211   \n",
       "6         3434234          346346                     5        4600   \n",
       "7         7567457            3463                     6         736   \n",
       "8            9235            1132                     3         672   \n",
       "9          238237           23534                     6           0   \n",
       "10           1312          242235                     3         734   \n",
       "11           3412          235235                     5        2374   \n",
       "\n",
       "   Highest_income_Member  \n",
       "0                 Olivia  \n",
       "1                 George  \n",
       "2                   Isla  \n",
       "3                  Harry  \n",
       "4                    Ava  \n",
       "5                   Noah  \n",
       "6                 Sophia  \n",
       "7                 Jacobi  \n",
       "8                Freddie  \n",
       "9                   Ella  \n",
       "10                 Grace  \n",
       "11                  Ella  "
      ]
     },
     "execution_count": 140,
     "metadata": {},
     "output_type": "execute_result"
    }
   ],
   "source": [
    "df"
   ]
  },
  {
   "cell_type": "markdown",
   "metadata": {},
   "source": [
    "### A. Display the five point summary of the data"
   ]
  },
  {
   "cell_type": "code",
   "execution_count": 141,
   "metadata": {},
   "outputs": [
    {
     "name": "stdout",
     "output_type": "stream",
     "text": [
      "five point summary of the data\n",
      "     Hourly_Income  Hourly_Expense  family_members_count  House_rent\n",
      "min        1000.00         1132.00                   1.0        0.00\n",
      "25%        3061.25         3283.75                   3.0      735.50\n",
      "50%      131327.50        18485.00                   3.5     2337.00\n",
      "75%      354295.75       236985.00                   5.0     3619.25\n",
      "max     7567457.00       651361.00                   6.0     4600.00\n"
     ]
    }
   ],
   "source": [
    "five_point_summary=df.describe()\n",
    "print('five point summary of the data')\n",
    "print(five_point_summary[3:])"
   ]
  },
  {
   "cell_type": "code",
   "execution_count": 142,
   "metadata": {},
   "outputs": [],
   "source": [
    "dfm=df.drop('Highest_income_Member',axis=1) # droping the categorical varibales to display the five pont summary using box plot"
   ]
  },
  {
   "cell_type": "code",
   "execution_count": 143,
   "metadata": {},
   "outputs": [
    {
     "data": {
      "image/png": "[encoded data removed]",
      "text/plain": [
       "<Figure size 720x576 with 1 Axes>"
      ]
     },
     "metadata": {
      "needs_background": "light"
     },
     "output_type": "display_data"
    }
   ],
   "source": [
    "plt.boxplot(dfm.values,labels=['Hourly_Income','Hourly_Expense','family_members_count','House_rent'])\n",
    "plt.rcParams[\"figure.figsize\"] = (15,10)\n",
    "plt.show()"
   ]
  },
  {
   "cell_type": "markdown",
   "metadata": {},
   "source": [
    "##### NOTE:BOX PLOT IS USED TO DISPLAY THE FIVE POINT SUMMARY OF THE DATA "
   ]
  },
  {
   "cell_type": "markdown",
   "metadata": {},
   "source": [
    "### B. What is the mean of the hourly expense?"
   ]
  },
  {
   "cell_type": "code",
   "execution_count": 144,
   "metadata": {},
   "outputs": [
    {
     "data": {
      "text/plain": [
       "145412.25"
      ]
     },
     "execution_count": 144,
     "metadata": {},
     "output_type": "execute_result"
    }
   ],
   "source": [
    "df['Hourly_Expense'].mean()"
   ]
  },
  {
   "cell_type": "markdown",
   "metadata": {},
   "source": [
    "### C. What is the median of the hourly expense?"
   ]
  },
  {
   "cell_type": "code",
   "execution_count": 145,
   "metadata": {},
   "outputs": [
    {
     "data": {
      "text/plain": [
       "18485.0"
      ]
     },
     "execution_count": 145,
     "metadata": {},
     "output_type": "execute_result"
    }
   ],
   "source": [
    "df['Hourly_Expense'].median()"
   ]
  },
  {
   "cell_type": "markdown",
   "metadata": {},
   "source": [
    "### D. Find the family member with maximum income and using a suitable graph."
   ]
  },
  {
   "cell_type": "markdown",
   "metadata": {},
   "source": [
    "#### Using Pie chart"
   ]
  },
  {
   "cell_type": "code",
   "execution_count": 146,
   "metadata": {
    "scrolled": false
   },
   "outputs": [
    {
     "data": {
      "image/png": "[encoded data removed]",
      "text/plain": [
       "<Figure size 1080x720 with 1 Axes>"
      ]
     },
     "metadata": {},
     "output_type": "display_data"
    }
   ],
   "source": [
    "plt.pie(x='Hourly_Income',labels='Highest_income_Member',data=df,autopct='%0.2f%%')\n",
    "plt.title('family member with maximum income',fontsize=18,color='r')\n",
    "plt.rcParams[\"figure.figsize\"] = (25,10)\n",
    "plt.show()"
   ]
  },
  {
   "cell_type": "markdown",
   "metadata": {},
   "source": [
    "As per the above shown graph Jacobi has maximum income compared to other family members"
   ]
  },
  {
   "cell_type": "markdown",
   "metadata": {},
   "source": [
    "#### Using Bar chart"
   ]
  },
  {
   "cell_type": "code",
   "execution_count": 147,
   "metadata": {},
   "outputs": [
    {
     "data": {
      "image/png": "[encoded data removed]",
      "text/plain": [
       "<Figure size 1800x720 with 1 Axes>"
      ]
     },
     "metadata": {
      "needs_background": "light"
     },
     "output_type": "display_data"
    }
   ],
   "source": [
    "sns.barplot(data=df,x='Highest_income_Member',y='Hourly_Income')\n",
    "plt.xlabel('family member',fontsize=15,color='b')\n",
    "plt.ylabel('Income',fontsize=15,color='b')\n",
    "plt.title('family member with maximum income',fontsize=18,color='r')\n",
    "plt.rcParams[\"figure.figsize\"] = (10,8)\n",
    "plt.show()"
   ]
  },
  {
   "cell_type": "markdown",
   "metadata": {},
   "source": [
    "As per the above shown graph Jacobi has maximum income compared to other family members"
   ]
  },
  {
   "cell_type": "markdown",
   "metadata": {},
   "source": [
    "### E. Calculate IQR(the difference between 75% and 25% quartile) for Hourly_Income and Hourly_Expense.¶"
   ]
  },
  {
   "cell_type": "markdown",
   "metadata": {},
   "source": [
    "#### METHOD 1 TO FIND IQR"
   ]
  },
  {
   "cell_type": "code",
   "execution_count": 148,
   "metadata": {},
   "outputs": [],
   "source": [
    "from scipy import stats"
   ]
  },
  {
   "cell_type": "markdown",
   "metadata": {},
   "source": [
    "#### IQR of Hourly_Income"
   ]
  },
  {
   "cell_type": "code",
   "execution_count": 149,
   "metadata": {},
   "outputs": [
    {
     "name": "stdout",
     "output_type": "stream",
     "text": [
      "IQR of Hourly_Income:  381646.0\n"
     ]
    }
   ],
   "source": [
    "IQR_Hourly_Income= stats.iqr(df['Hourly_Income'],interpolation='midpoint')\n",
    "print('IQR of Hourly_Income: ',IQR_Hourly_Income)"
   ]
  },
  {
   "cell_type": "markdown",
   "metadata": {},
   "source": [
    "#### IQR of Hourly_Expense"
   ]
  },
  {
   "cell_type": "code",
   "execution_count": 150,
   "metadata": {},
   "outputs": [
    {
     "name": "stdout",
     "output_type": "stream",
     "text": [
      "IQR of Hourly_Expense:  235630.5\n"
     ]
    }
   ],
   "source": [
    "IQR_Hourly_Expense= stats.iqr(df['Hourly_Expense'],interpolation='midpoint')\n",
    "print('IQR of Hourly_Expense: ',IQR_Hourly_Expense)"
   ]
  },
  {
   "cell_type": "markdown",
   "metadata": {},
   "source": [
    "#### METHOD 2 TO FIND IQR"
   ]
  },
  {
   "cell_type": "markdown",
   "metadata": {},
   "source": [
    "#### IQR of Hourly_Income"
   ]
  },
  {
   "cell_type": "code",
   "execution_count": 151,
   "metadata": {},
   "outputs": [
    {
     "name": "stdout",
     "output_type": "stream",
     "text": [
      "Q3 = 384356.5\n"
     ]
    }
   ],
   "source": [
    "Q3=np.percentile(df['Hourly_Income'],75,interpolation='midpoint')\n",
    "print('Q3 =',Q3)"
   ]
  },
  {
   "cell_type": "code",
   "execution_count": 152,
   "metadata": {},
   "outputs": [
    {
     "name": "stdout",
     "output_type": "stream",
     "text": [
      "Q1 = 2710.5\n"
     ]
    }
   ],
   "source": [
    "Q1=np.percentile(df['Hourly_Income'],25,interpolation='midpoint')\n",
    "print('Q1 =',Q1)"
   ]
  },
  {
   "cell_type": "code",
   "execution_count": 153,
   "metadata": {},
   "outputs": [
    {
     "name": "stdout",
     "output_type": "stream",
     "text": [
      "IQR of Hourly_Income = 381646.0\n"
     ]
    }
   ],
   "source": [
    "Hourly_Income_IQR=Q3-Q1\n",
    "print('IQR of Hourly_Income =',Hourly_Income_IQR)"
   ]
  },
  {
   "cell_type": "markdown",
   "metadata": {},
   "source": [
    "#### IQR of Hourly_Expense"
   ]
  },
  {
   "cell_type": "code",
   "execution_count": 154,
   "metadata": {},
   "outputs": [
    {
     "name": "stdout",
     "output_type": "stream",
     "text": [
      "Q3 = 238735.0\n"
     ]
    }
   ],
   "source": [
    "Q3=np.percentile(df['Hourly_Expense'],75,interpolation='midpoint')\n",
    "print('Q3 =',Q3)"
   ]
  },
  {
   "cell_type": "code",
   "execution_count": 155,
   "metadata": {},
   "outputs": [
    {
     "name": "stdout",
     "output_type": "stream",
     "text": [
      "Q1 = 3104.5\n"
     ]
    }
   ],
   "source": [
    "Q1=np.percentile(df['Hourly_Expense'],25,interpolation='midpoint')\n",
    "print('Q1 =',Q1)"
   ]
  },
  {
   "cell_type": "code",
   "execution_count": 156,
   "metadata": {},
   "outputs": [
    {
     "name": "stdout",
     "output_type": "stream",
     "text": [
      "IQR of Hourly Expense = 235630.5\n"
     ]
    }
   ],
   "source": [
    "Hourly_Expense_IQR=Q3-Q1\n",
    "print('IQR of Hourly Expense =',Hourly_Expense_IQR)"
   ]
  },
  {
   "cell_type": "markdown",
   "metadata": {},
   "source": [
    "## F. Calculate the standard deviation for first 2 columns."
   ]
  },
  {
   "cell_type": "markdown",
   "metadata": {},
   "source": [
    "### Standard Deviation of Hourly Income (1st column)"
   ]
  },
  {
   "cell_type": "markdown",
   "metadata": {},
   "source": [
    "##### METHOD 1"
   ]
  },
  {
   "cell_type": "code",
   "execution_count": 157,
   "metadata": {},
   "outputs": [],
   "source": [
    "import statistics as stats"
   ]
  },
  {
   "cell_type": "code",
   "execution_count": 158,
   "metadata": {},
   "outputs": [
    {
     "name": "stdout",
     "output_type": "stream",
     "text": [
      "Standard Deviation of Hourly Income :  2177268.4698499884\n"
     ]
    }
   ],
   "source": [
    "STD_hourly_income=stats.pstdev(df['Hourly_Income'])\n",
    "print('Standard Deviation of Hourly Income : ',STD_hourly_income)"
   ]
  },
  {
   "cell_type": "markdown",
   "metadata": {},
   "source": [
    "###### METHOD 2"
   ]
  },
  {
   "cell_type": "markdown",
   "metadata": {},
   "source": [
    "##### manual calculation "
   ]
  },
  {
   "cell_type": "code",
   "execution_count": 159,
   "metadata": {},
   "outputs": [],
   "source": [
    "mean_of_hourly_income = df['Hourly_Income'].mean()"
   ]
  },
  {
   "cell_type": "code",
   "execution_count": 160,
   "metadata": {},
   "outputs": [],
   "source": [
    "diff_from_mean = df['Hourly_Income']-df['Hourly_Income'].mean()"
   ]
  },
  {
   "cell_type": "code",
   "execution_count": 161,
   "metadata": {},
   "outputs": [],
   "source": [
    "squre_of_diff_from_mean = diff_from_mean**2\n",
    "variance_of_hourly_income = squre_of_diff_from_mean.sum()/12 # total entries(len of hourly_income)"
   ]
  },
  {
   "cell_type": "code",
   "execution_count": 162,
   "metadata": {},
   "outputs": [
    {
     "name": "stdout",
     "output_type": "stream",
     "text": [
      "standard deviation of hourly income :  2177268.4698499884\n"
     ]
    }
   ],
   "source": [
    "standard_deviation_of_hourly_income=np.sqrt(variance_of_hourly_income)\n",
    "print('standard deviation of hourly income : ',standard_deviation_of_hourly_income)"
   ]
  },
  {
   "cell_type": "markdown",
   "metadata": {},
   "source": [
    "### Standard Deviation of Hourly Expense (2nd column)"
   ]
  },
  {
   "cell_type": "code",
   "execution_count": 163,
   "metadata": {},
   "outputs": [
    {
     "name": "stdout",
     "output_type": "stream",
     "text": [
      "standard deviation of hourly expence :  194196.43895813546\n"
     ]
    }
   ],
   "source": [
    "STD_hourly_expence = stats.pstdev(df['Hourly_Expense'])\n",
    "print('standard deviation of hourly expence : ',STD_hourly_expence)"
   ]
  },
  {
   "cell_type": "code",
   "execution_count": 164,
   "metadata": {},
   "outputs": [
    {
     "data": {
      "text/plain": [
       "194196.43895813546"
      ]
     },
     "execution_count": 164,
     "metadata": {},
     "output_type": "execute_result"
    }
   ],
   "source": [
    "a=df['Hourly_Expense']-df['Hourly_Expense'].mean()\n",
    "b=a**2\n",
    "c=b.sum()/12\n",
    "np.sqrt(c)"
   ]
  },
  {
   "cell_type": "markdown",
   "metadata": {},
   "source": [
    "## G. Calculate variance for the first 4 columns"
   ]
  },
  {
   "cell_type": "code",
   "execution_count": 165,
   "metadata": {},
   "outputs": [
    {
     "data": {
      "text/plain": [
       "Index(['Hourly_Income', 'Hourly_Expense', 'family_members_count', 'House_rent',\n",
       "       'Highest_income_Member'],\n",
       "      dtype='object')"
      ]
     },
     "execution_count": 165,
     "metadata": {},
     "output_type": "execute_result"
    }
   ],
   "source": [
    "df.columns"
   ]
  },
  {
   "cell_type": "markdown",
   "metadata": {},
   "source": [
    "formula for variance for manual calculation.\n",
    "\n",
    "variance = squre of difference from mean ( df[col]-df[col].mean())**2 / total entries ( len of df[col])\n"
   ]
  },
  {
   "cell_type": "markdown",
   "metadata": {},
   "source": [
    "### variance_of_Hourly_Income ( 1st column)"
   ]
  },
  {
   "cell_type": "code",
   "execution_count": 166,
   "metadata": {},
   "outputs": [
    {
     "name": "stdout",
     "output_type": "stream",
     "text": [
      "variance of Hourly Income :  4740497989802.91\n"
     ]
    }
   ],
   "source": [
    "variance_of_Hourly_Income = stats.pvariance(df['Hourly_Income'])\n",
    "print('variance of Hourly Income : ',variance_of_Hourly_Income)"
   ]
  },
  {
   "cell_type": "code",
   "execution_count": 167,
   "metadata": {},
   "outputs": [
    {
     "data": {
      "text/plain": [
       "4740497989802.909"
      ]
     },
     "execution_count": 167,
     "metadata": {},
     "output_type": "execute_result"
    }
   ],
   "source": [
    "a=df['Hourly_Income']-df['Hourly_Income'].mean()\n",
    "b=a**2\n",
    "b.sum()/12"
   ]
  },
  {
   "cell_type": "markdown",
   "metadata": {},
   "source": [
    "### variance_of_Hourly_Expense ( 2nd column)"
   ]
  },
  {
   "cell_type": "code",
   "execution_count": 168,
   "metadata": {},
   "outputs": [
    {
     "name": "stdout",
     "output_type": "stream",
     "text": [
      "Variance of Hourly Expense :  37712256904.020836\n"
     ]
    }
   ],
   "source": [
    "variance_of_Hourly_Expense = stats.pvariance(df['Hourly_Expense'])\n",
    "print('Variance of Hourly Expense : ',variance_of_Hourly_Expense)"
   ]
  },
  {
   "cell_type": "markdown",
   "metadata": {},
   "source": [
    "### variance_of_family_members_count ( 3rd column)"
   ]
  },
  {
   "cell_type": "code",
   "execution_count": 169,
   "metadata": {},
   "outputs": [
    {
     "name": "stdout",
     "output_type": "stream",
     "text": [
      "variance of family members count :  2.1875\n"
     ]
    }
   ],
   "source": [
    "variance_of_family_members_count = stats.pvariance(df['family_members_count'])\n",
    "print('variance of family members count : ',variance_of_family_members_count)"
   ]
  },
  {
   "cell_type": "markdown",
   "metadata": {},
   "source": [
    "### variance_of_House_rent (4th column)"
   ]
  },
  {
   "cell_type": "code",
   "execution_count": 170,
   "metadata": {},
   "outputs": [
    {
     "name": "stdout",
     "output_type": "stream",
     "text": [
      "variance of_House rent :  2531032.7430555555\n"
     ]
    }
   ],
   "source": [
    "variance_of_House_rent = stats.pvariance(df['House_rent'])\n",
    "print('variance of_House rent : ',variance_of_House_rent)"
   ]
  },
  {
   "cell_type": "markdown",
   "metadata": {},
   "source": [
    "<h4 class=\"list-group-item list-group-item-action active\" >2. Preliminary Wrangling,</h4>\n",
    "\n",
    ">### Dataset Information: \n",
    "\n",
    "Dataset recording people to invest in each other in a way that is financially and socially rewarding. On loans, borrowers list loan requests between $ 2,000 and $ 35,000 and individual investors invest as little as $ 25 in each loan listing they select. Prosper handles the servicing of the loan on behalf of the matched borrowers and investors.\n",
    "\n",
    "\n",
    "\n",
    "\n",
    ">#### A. Read the dataset called Pri-Load.csv\n",
    ">#### B.  Check the data type and adjust datatype for all other categorical columns.\n",
    ">#### C. If you find any of the missing values in the ProsperRating column, then drop it.\n",
    "\n"
   ]
  },
  {
   "cell_type": "markdown",
   "metadata": {},
   "source": [
    "## A. Read the dataset called Pri-Load.csv"
   ]
  },
  {
   "cell_type": "code",
   "execution_count": 3,
   "metadata": {},
   "outputs": [],
   "source": [
    "data=pd.read_csv('Pri-Load.csv')"
   ]
  },
  {
   "cell_type": "code",
   "execution_count": 4,
   "metadata": {},
   "outputs": [
    {
     "data": {
      "text/html": [
       "<div>\n",
       "<style scoped>\n",
       "    .dataframe tbody tr th:only-of-type {\n",
       "        vertical-align: middle;\n",
       "    }\n",
       "\n",
       "    .dataframe tbody tr th {\n",
       "        vertical-align: top;\n",
       "    }\n",
       "\n",
       "    .dataframe thead th {\n",
       "        text-align: right;\n",
       "    }\n",
       "</style>\n",
       "<table border=\"1\" class=\"dataframe\">\n",
       "  <thead>\n",
       "    <tr style=\"text-align: right;\">\n",
       "      <th></th>\n",
       "      <th>ListingCreationDate</th>\n",
       "      <th>Term</th>\n",
       "      <th>LoanStatus</th>\n",
       "      <th>ClosedDate</th>\n",
       "      <th>BorrowerAPR</th>\n",
       "      <th>BorrowerRate</th>\n",
       "      <th>LenderYield</th>\n",
       "      <th>ProsperRating (Alpha)</th>\n",
       "      <th>ProsperScore</th>\n",
       "      <th>ListingCategory (numeric)</th>\n",
       "      <th>...</th>\n",
       "      <th>EmploymentStatus</th>\n",
       "      <th>AmountDelinquent</th>\n",
       "      <th>StatedMonthlyIncome</th>\n",
       "      <th>LoanCurrentDaysDelinquent</th>\n",
       "      <th>LoanOriginalAmount</th>\n",
       "      <th>LoanOriginationDate</th>\n",
       "      <th>LoanOriginationQuarter</th>\n",
       "      <th>MonthlyLoanPayment</th>\n",
       "      <th>LP_InterestandFees</th>\n",
       "      <th>Investors</th>\n",
       "    </tr>\n",
       "  </thead>\n",
       "  <tbody>\n",
       "    <tr>\n",
       "      <th>0</th>\n",
       "      <td>2007-08-26 19:09:29.263000000</td>\n",
       "      <td>36</td>\n",
       "      <td>Completed</td>\n",
       "      <td>14-08-2009 0.00</td>\n",
       "      <td>0.16516</td>\n",
       "      <td>0.1580</td>\n",
       "      <td>0.1380</td>\n",
       "      <td>NaN</td>\n",
       "      <td>NaN</td>\n",
       "      <td>0</td>\n",
       "      <td>...</td>\n",
       "      <td>Self-employed</td>\n",
       "      <td>472.0</td>\n",
       "      <td>3083.333333</td>\n",
       "      <td>0</td>\n",
       "      <td>9425</td>\n",
       "      <td>12-09-2007 0.00</td>\n",
       "      <td>Q3 2007</td>\n",
       "      <td>330.43</td>\n",
       "      <td>1971.14</td>\n",
       "      <td>258</td>\n",
       "    </tr>\n",
       "    <tr>\n",
       "      <th>1</th>\n",
       "      <td>2014-02-27 08:28:07.900000000</td>\n",
       "      <td>36</td>\n",
       "      <td>Current</td>\n",
       "      <td>NaN</td>\n",
       "      <td>0.12016</td>\n",
       "      <td>0.0920</td>\n",
       "      <td>0.0820</td>\n",
       "      <td>A</td>\n",
       "      <td>7.0</td>\n",
       "      <td>2</td>\n",
       "      <td>...</td>\n",
       "      <td>Employed</td>\n",
       "      <td>0.0</td>\n",
       "      <td>6125.000000</td>\n",
       "      <td>0</td>\n",
       "      <td>10000</td>\n",
       "      <td>03-03-2014 0.00</td>\n",
       "      <td>Q1 2014</td>\n",
       "      <td>318.93</td>\n",
       "      <td>0.00</td>\n",
       "      <td>1</td>\n",
       "    </tr>\n",
       "    <tr>\n",
       "      <th>2</th>\n",
       "      <td>2007-01-05 15:00:47.090000000</td>\n",
       "      <td>36</td>\n",
       "      <td>Completed</td>\n",
       "      <td>17-12-2009 0.00</td>\n",
       "      <td>0.28269</td>\n",
       "      <td>0.2750</td>\n",
       "      <td>0.2400</td>\n",
       "      <td>NaN</td>\n",
       "      <td>NaN</td>\n",
       "      <td>0</td>\n",
       "      <td>...</td>\n",
       "      <td>Not available</td>\n",
       "      <td>NaN</td>\n",
       "      <td>2083.333333</td>\n",
       "      <td>0</td>\n",
       "      <td>3001</td>\n",
       "      <td>17-01-2007 0.00</td>\n",
       "      <td>Q1 2007</td>\n",
       "      <td>123.32</td>\n",
       "      <td>1185.63</td>\n",
       "      <td>41</td>\n",
       "    </tr>\n",
       "    <tr>\n",
       "      <th>3</th>\n",
       "      <td>2012-10-22 11:02:35.010000000</td>\n",
       "      <td>36</td>\n",
       "      <td>Current</td>\n",
       "      <td>NaN</td>\n",
       "      <td>0.12528</td>\n",
       "      <td>0.0974</td>\n",
       "      <td>0.0874</td>\n",
       "      <td>A</td>\n",
       "      <td>9.0</td>\n",
       "      <td>16</td>\n",
       "      <td>...</td>\n",
       "      <td>Employed</td>\n",
       "      <td>10056.0</td>\n",
       "      <td>2875.000000</td>\n",
       "      <td>0</td>\n",
       "      <td>10000</td>\n",
       "      <td>01-11-2012 0.00</td>\n",
       "      <td>Q4 2012</td>\n",
       "      <td>321.45</td>\n",
       "      <td>1052.11</td>\n",
       "      <td>158</td>\n",
       "    </tr>\n",
       "    <tr>\n",
       "      <th>4</th>\n",
       "      <td>2013-09-14 18:38:39.097000000</td>\n",
       "      <td>36</td>\n",
       "      <td>Current</td>\n",
       "      <td>NaN</td>\n",
       "      <td>0.24614</td>\n",
       "      <td>0.2085</td>\n",
       "      <td>0.1985</td>\n",
       "      <td>D</td>\n",
       "      <td>4.0</td>\n",
       "      <td>2</td>\n",
       "      <td>...</td>\n",
       "      <td>Employed</td>\n",
       "      <td>0.0</td>\n",
       "      <td>9583.333333</td>\n",
       "      <td>0</td>\n",
       "      <td>15000</td>\n",
       "      <td>20-09-2013 0.00</td>\n",
       "      <td>Q3 2013</td>\n",
       "      <td>563.97</td>\n",
       "      <td>1256.63</td>\n",
       "      <td>20</td>\n",
       "    </tr>\n",
       "  </tbody>\n",
       "</table>\n",
       "<p>5 rows × 22 columns</p>\n",
       "</div>"
      ],
      "text/plain": [
       "             ListingCreationDate  Term LoanStatus       ClosedDate  \\\n",
       "0  2007-08-26 19:09:29.263000000    36  Completed  14-08-2009 0.00   \n",
       "1  2014-02-27 08:28:07.900000000    36    Current              NaN   \n",
       "2  2007-01-05 15:00:47.090000000    36  Completed  17-12-2009 0.00   \n",
       "3  2012-10-22 11:02:35.010000000    36    Current              NaN   \n",
       "4  2013-09-14 18:38:39.097000000    36    Current              NaN   \n",
       "\n",
       "   BorrowerAPR  BorrowerRate  LenderYield ProsperRating (Alpha)  ProsperScore  \\\n",
       "0      0.16516        0.1580       0.1380                   NaN           NaN   \n",
       "1      0.12016        0.0920       0.0820                     A           7.0   \n",
       "2      0.28269        0.2750       0.2400                   NaN           NaN   \n",
       "3      0.12528        0.0974       0.0874                     A           9.0   \n",
       "4      0.24614        0.2085       0.1985                     D           4.0   \n",
       "\n",
       "   ListingCategory (numeric)  ... EmploymentStatus AmountDelinquent  \\\n",
       "0                          0  ...    Self-employed            472.0   \n",
       "1                          2  ...         Employed              0.0   \n",
       "2                          0  ...    Not available              NaN   \n",
       "3                         16  ...         Employed          10056.0   \n",
       "4                          2  ...         Employed              0.0   \n",
       "\n",
       "  StatedMonthlyIncome  LoanCurrentDaysDelinquent  LoanOriginalAmount  \\\n",
       "0         3083.333333                          0                9425   \n",
       "1         6125.000000                          0               10000   \n",
       "2         2083.333333                          0                3001   \n",
       "3         2875.000000                          0               10000   \n",
       "4         9583.333333                          0               15000   \n",
       "\n",
       "   LoanOriginationDate  LoanOriginationQuarter MonthlyLoanPayment  \\\n",
       "0      12-09-2007 0.00                 Q3 2007             330.43   \n",
       "1      03-03-2014 0.00                 Q1 2014             318.93   \n",
       "2      17-01-2007 0.00                 Q1 2007             123.32   \n",
       "3      01-11-2012 0.00                 Q4 2012             321.45   \n",
       "4      20-09-2013 0.00                 Q3 2013             563.97   \n",
       "\n",
       "  LP_InterestandFees  Investors  \n",
       "0            1971.14        258  \n",
       "1               0.00          1  \n",
       "2            1185.63         41  \n",
       "3            1052.11        158  \n",
       "4            1256.63         20  \n",
       "\n",
       "[5 rows x 22 columns]"
      ]
     },
     "execution_count": 4,
     "metadata": {},
     "output_type": "execute_result"
    }
   ],
   "source": [
    "data.head()"
   ]
  },
  {
   "cell_type": "code",
   "execution_count": 173,
   "metadata": {},
   "outputs": [
    {
     "data": {
      "text/plain": [
       "(1035, 22)"
      ]
     },
     "execution_count": 173,
     "metadata": {},
     "output_type": "execute_result"
    }
   ],
   "source": [
    "data.shape"
   ]
  },
  {
   "cell_type": "code",
   "execution_count": 174,
   "metadata": {},
   "outputs": [
    {
     "data": {
      "text/html": [
       "<div>\n",
       "<style scoped>\n",
       "    .dataframe tbody tr th:only-of-type {\n",
       "        vertical-align: middle;\n",
       "    }\n",
       "\n",
       "    .dataframe tbody tr th {\n",
       "        vertical-align: top;\n",
       "    }\n",
       "\n",
       "    .dataframe thead th {\n",
       "        text-align: right;\n",
       "    }\n",
       "</style>\n",
       "<table border=\"1\" class=\"dataframe\">\n",
       "  <thead>\n",
       "    <tr style=\"text-align: right;\">\n",
       "      <th></th>\n",
       "      <th>Term</th>\n",
       "      <th>BorrowerAPR</th>\n",
       "      <th>BorrowerRate</th>\n",
       "      <th>LenderYield</th>\n",
       "      <th>ProsperScore</th>\n",
       "      <th>ListingCategory (numeric)</th>\n",
       "      <th>AmountDelinquent</th>\n",
       "      <th>StatedMonthlyIncome</th>\n",
       "      <th>LoanCurrentDaysDelinquent</th>\n",
       "      <th>LoanOriginalAmount</th>\n",
       "      <th>MonthlyLoanPayment</th>\n",
       "      <th>LP_InterestandFees</th>\n",
       "      <th>Investors</th>\n",
       "    </tr>\n",
       "  </thead>\n",
       "  <tbody>\n",
       "    <tr>\n",
       "      <th>count</th>\n",
       "      <td>1035.000000</td>\n",
       "      <td>1035.000000</td>\n",
       "      <td>1035.000000</td>\n",
       "      <td>1035.000000</td>\n",
       "      <td>783.000000</td>\n",
       "      <td>1035.000000</td>\n",
       "      <td>954.000000</td>\n",
       "      <td>1035.000000</td>\n",
       "      <td>1035.000000</td>\n",
       "      <td>1035.000000</td>\n",
       "      <td>1035.000000</td>\n",
       "      <td>1035.000000</td>\n",
       "      <td>1035.000000</td>\n",
       "    </tr>\n",
       "    <tr>\n",
       "      <th>mean</th>\n",
       "      <td>40.544928</td>\n",
       "      <td>0.216630</td>\n",
       "      <td>0.190303</td>\n",
       "      <td>0.180144</td>\n",
       "      <td>5.896552</td>\n",
       "      <td>2.959420</td>\n",
       "      <td>931.485325</td>\n",
       "      <td>5619.000080</td>\n",
       "      <td>126.970048</td>\n",
       "      <td>8436.806763</td>\n",
       "      <td>275.345768</td>\n",
       "      <td>1047.003686</td>\n",
       "      <td>78.209662</td>\n",
       "    </tr>\n",
       "    <tr>\n",
       "      <th>std</th>\n",
       "      <td>10.203190</td>\n",
       "      <td>0.080426</td>\n",
       "      <td>0.074482</td>\n",
       "      <td>0.074207</td>\n",
       "      <td>2.367896</td>\n",
       "      <td>4.332225</td>\n",
       "      <td>6721.870378</td>\n",
       "      <td>4189.095770</td>\n",
       "      <td>415.232623</td>\n",
       "      <td>6352.716827</td>\n",
       "      <td>193.994837</td>\n",
       "      <td>1200.222929</td>\n",
       "      <td>107.626807</td>\n",
       "    </tr>\n",
       "    <tr>\n",
       "      <th>min</th>\n",
       "      <td>12.000000</td>\n",
       "      <td>0.059270</td>\n",
       "      <td>0.049900</td>\n",
       "      <td>0.039900</td>\n",
       "      <td>1.000000</td>\n",
       "      <td>0.000000</td>\n",
       "      <td>0.000000</td>\n",
       "      <td>0.000000</td>\n",
       "      <td>0.000000</td>\n",
       "      <td>1000.000000</td>\n",
       "      <td>0.000000</td>\n",
       "      <td>0.000000</td>\n",
       "      <td>1.000000</td>\n",
       "    </tr>\n",
       "    <tr>\n",
       "      <th>25%</th>\n",
       "      <td>36.000000</td>\n",
       "      <td>0.154280</td>\n",
       "      <td>0.129900</td>\n",
       "      <td>0.120000</td>\n",
       "      <td>4.000000</td>\n",
       "      <td>1.000000</td>\n",
       "      <td>0.000000</td>\n",
       "      <td>3108.333333</td>\n",
       "      <td>0.000000</td>\n",
       "      <td>4000.000000</td>\n",
       "      <td>134.895000</td>\n",
       "      <td>261.697000</td>\n",
       "      <td>1.000000</td>\n",
       "    </tr>\n",
       "    <tr>\n",
       "      <th>50%</th>\n",
       "      <td>36.000000</td>\n",
       "      <td>0.205240</td>\n",
       "      <td>0.179500</td>\n",
       "      <td>0.169500</td>\n",
       "      <td>6.000000</td>\n",
       "      <td>1.000000</td>\n",
       "      <td>0.000000</td>\n",
       "      <td>4734.333333</td>\n",
       "      <td>0.000000</td>\n",
       "      <td>6500.000000</td>\n",
       "      <td>217.740000</td>\n",
       "      <td>640.530000</td>\n",
       "      <td>38.000000</td>\n",
       "    </tr>\n",
       "    <tr>\n",
       "      <th>75%</th>\n",
       "      <td>36.000000</td>\n",
       "      <td>0.283240</td>\n",
       "      <td>0.249500</td>\n",
       "      <td>0.239500</td>\n",
       "      <td>8.000000</td>\n",
       "      <td>3.000000</td>\n",
       "      <td>0.000000</td>\n",
       "      <td>7022.166666</td>\n",
       "      <td>0.000000</td>\n",
       "      <td>12237.500000</td>\n",
       "      <td>375.465000</td>\n",
       "      <td>1421.095000</td>\n",
       "      <td>107.000000</td>\n",
       "    </tr>\n",
       "    <tr>\n",
       "      <th>max</th>\n",
       "      <td>60.000000</td>\n",
       "      <td>0.391530</td>\n",
       "      <td>0.350000</td>\n",
       "      <td>0.340000</td>\n",
       "      <td>11.000000</td>\n",
       "      <td>20.000000</td>\n",
       "      <td>155578.000000</td>\n",
       "      <td>41666.666670</td>\n",
       "      <td>2370.000000</td>\n",
       "      <td>35000.000000</td>\n",
       "      <td>1223.420000</td>\n",
       "      <td>8756.720000</td>\n",
       "      <td>782.000000</td>\n",
       "    </tr>\n",
       "  </tbody>\n",
       "</table>\n",
       "</div>"
      ],
      "text/plain": [
       "              Term  BorrowerAPR  BorrowerRate  LenderYield  ProsperScore  \\\n",
       "count  1035.000000  1035.000000   1035.000000  1035.000000    783.000000   \n",
       "mean     40.544928     0.216630      0.190303     0.180144      5.896552   \n",
       "std      10.203190     0.080426      0.074482     0.074207      2.367896   \n",
       "min      12.000000     0.059270      0.049900     0.039900      1.000000   \n",
       "25%      36.000000     0.154280      0.129900     0.120000      4.000000   \n",
       "50%      36.000000     0.205240      0.179500     0.169500      6.000000   \n",
       "75%      36.000000     0.283240      0.249500     0.239500      8.000000   \n",
       "max      60.000000     0.391530      0.350000     0.340000     11.000000   \n",
       "\n",
       "       ListingCategory (numeric)  AmountDelinquent  StatedMonthlyIncome  \\\n",
       "count                1035.000000        954.000000          1035.000000   \n",
       "mean                    2.959420        931.485325          5619.000080   \n",
       "std                     4.332225       6721.870378          4189.095770   \n",
       "min                     0.000000          0.000000             0.000000   \n",
       "25%                     1.000000          0.000000          3108.333333   \n",
       "50%                     1.000000          0.000000          4734.333333   \n",
       "75%                     3.000000          0.000000          7022.166666   \n",
       "max                    20.000000     155578.000000         41666.666670   \n",
       "\n",
       "       LoanCurrentDaysDelinquent  LoanOriginalAmount  MonthlyLoanPayment  \\\n",
       "count                1035.000000         1035.000000         1035.000000   \n",
       "mean                  126.970048         8436.806763          275.345768   \n",
       "std                   415.232623         6352.716827          193.994837   \n",
       "min                     0.000000         1000.000000            0.000000   \n",
       "25%                     0.000000         4000.000000          134.895000   \n",
       "50%                     0.000000         6500.000000          217.740000   \n",
       "75%                     0.000000        12237.500000          375.465000   \n",
       "max                  2370.000000        35000.000000         1223.420000   \n",
       "\n",
       "       LP_InterestandFees    Investors  \n",
       "count         1035.000000  1035.000000  \n",
       "mean          1047.003686    78.209662  \n",
       "std           1200.222929   107.626807  \n",
       "min              0.000000     1.000000  \n",
       "25%            261.697000     1.000000  \n",
       "50%            640.530000    38.000000  \n",
       "75%           1421.095000   107.000000  \n",
       "max           8756.720000   782.000000  "
      ]
     },
     "execution_count": 174,
     "metadata": {},
     "output_type": "execute_result"
    }
   ],
   "source": [
    "data.describe()"
   ]
  },
  {
   "cell_type": "markdown",
   "metadata": {},
   "source": [
    "## B. Check the data type and adjust datatype for all other categorical columns.¶"
   ]
  },
  {
   "cell_type": "code",
   "execution_count": 175,
   "metadata": {},
   "outputs": [
    {
     "data": {
      "text/plain": [
       "ListingCreationDate           object\n",
       "Term                           int64\n",
       "LoanStatus                    object\n",
       "ClosedDate                    object\n",
       "BorrowerAPR                  float64\n",
       "BorrowerRate                 float64\n",
       "LenderYield                  float64\n",
       "ProsperRating (Alpha)         object\n",
       "ProsperScore                 float64\n",
       "ListingCategory (numeric)      int64\n",
       "BorrowerState                 object\n",
       "Occupation                    object\n",
       "EmploymentStatus              object\n",
       "AmountDelinquent             float64\n",
       "StatedMonthlyIncome          float64\n",
       "LoanCurrentDaysDelinquent      int64\n",
       "LoanOriginalAmount             int64\n",
       "LoanOriginationDate           object\n",
       "LoanOriginationQuarter        object\n",
       "MonthlyLoanPayment           float64\n",
       "LP_InterestandFees           float64\n",
       "Investors                      int64\n",
       "dtype: object"
      ]
     },
     "execution_count": 175,
     "metadata": {},
     "output_type": "execute_result"
    }
   ],
   "source": [
    "data.dtypes"
   ]
  },
  {
   "cell_type": "code",
   "execution_count": 9,
   "metadata": {},
   "outputs": [
    {
     "data": {
      "text/html": [
       "<div>\n",
       "<style scoped>\n",
       "    .dataframe tbody tr th:only-of-type {\n",
       "        vertical-align: middle;\n",
       "    }\n",
       "\n",
       "    .dataframe tbody tr th {\n",
       "        vertical-align: top;\n",
       "    }\n",
       "\n",
       "    .dataframe thead th {\n",
       "        text-align: right;\n",
       "    }\n",
       "</style>\n",
       "<table border=\"1\" class=\"dataframe\">\n",
       "  <thead>\n",
       "    <tr style=\"text-align: right;\">\n",
       "      <th></th>\n",
       "      <th>Term</th>\n",
       "      <th>BorrowerAPR</th>\n",
       "      <th>BorrowerRate</th>\n",
       "      <th>LenderYield</th>\n",
       "      <th>ProsperScore</th>\n",
       "      <th>ListingCategory (numeric)</th>\n",
       "      <th>AmountDelinquent</th>\n",
       "      <th>StatedMonthlyIncome</th>\n",
       "      <th>LoanCurrentDaysDelinquent</th>\n",
       "      <th>LoanOriginalAmount</th>\n",
       "      <th>MonthlyLoanPayment</th>\n",
       "      <th>LP_InterestandFees</th>\n",
       "      <th>Investors</th>\n",
       "    </tr>\n",
       "  </thead>\n",
       "  <tbody>\n",
       "    <tr>\n",
       "      <th>0</th>\n",
       "      <td>36</td>\n",
       "      <td>0.16516</td>\n",
       "      <td>0.1580</td>\n",
       "      <td>0.1380</td>\n",
       "      <td>NaN</td>\n",
       "      <td>0</td>\n",
       "      <td>472.0</td>\n",
       "      <td>3083.333333</td>\n",
       "      <td>0</td>\n",
       "      <td>9425</td>\n",
       "      <td>330.43</td>\n",
       "      <td>1971.14</td>\n",
       "      <td>258</td>\n",
       "    </tr>\n",
       "    <tr>\n",
       "      <th>1</th>\n",
       "      <td>36</td>\n",
       "      <td>0.12016</td>\n",
       "      <td>0.0920</td>\n",
       "      <td>0.0820</td>\n",
       "      <td>7.0</td>\n",
       "      <td>2</td>\n",
       "      <td>0.0</td>\n",
       "      <td>6125.000000</td>\n",
       "      <td>0</td>\n",
       "      <td>10000</td>\n",
       "      <td>318.93</td>\n",
       "      <td>0.00</td>\n",
       "      <td>1</td>\n",
       "    </tr>\n",
       "    <tr>\n",
       "      <th>2</th>\n",
       "      <td>36</td>\n",
       "      <td>0.28269</td>\n",
       "      <td>0.2750</td>\n",
       "      <td>0.2400</td>\n",
       "      <td>NaN</td>\n",
       "      <td>0</td>\n",
       "      <td>NaN</td>\n",
       "      <td>2083.333333</td>\n",
       "      <td>0</td>\n",
       "      <td>3001</td>\n",
       "      <td>123.32</td>\n",
       "      <td>1185.63</td>\n",
       "      <td>41</td>\n",
       "    </tr>\n",
       "    <tr>\n",
       "      <th>3</th>\n",
       "      <td>36</td>\n",
       "      <td>0.12528</td>\n",
       "      <td>0.0974</td>\n",
       "      <td>0.0874</td>\n",
       "      <td>9.0</td>\n",
       "      <td>16</td>\n",
       "      <td>10056.0</td>\n",
       "      <td>2875.000000</td>\n",
       "      <td>0</td>\n",
       "      <td>10000</td>\n",
       "      <td>321.45</td>\n",
       "      <td>1052.11</td>\n",
       "      <td>158</td>\n",
       "    </tr>\n",
       "    <tr>\n",
       "      <th>4</th>\n",
       "      <td>36</td>\n",
       "      <td>0.24614</td>\n",
       "      <td>0.2085</td>\n",
       "      <td>0.1985</td>\n",
       "      <td>4.0</td>\n",
       "      <td>2</td>\n",
       "      <td>0.0</td>\n",
       "      <td>9583.333333</td>\n",
       "      <td>0</td>\n",
       "      <td>15000</td>\n",
       "      <td>563.97</td>\n",
       "      <td>1256.63</td>\n",
       "      <td>20</td>\n",
       "    </tr>\n",
       "    <tr>\n",
       "      <th>...</th>\n",
       "      <td>...</td>\n",
       "      <td>...</td>\n",
       "      <td>...</td>\n",
       "      <td>...</td>\n",
       "      <td>...</td>\n",
       "      <td>...</td>\n",
       "      <td>...</td>\n",
       "      <td>...</td>\n",
       "      <td>...</td>\n",
       "      <td>...</td>\n",
       "      <td>...</td>\n",
       "      <td>...</td>\n",
       "      <td>...</td>\n",
       "    </tr>\n",
       "    <tr>\n",
       "      <th>1030</th>\n",
       "      <td>36</td>\n",
       "      <td>0.24246</td>\n",
       "      <td>0.2049</td>\n",
       "      <td>0.1949</td>\n",
       "      <td>7.0</td>\n",
       "      <td>1</td>\n",
       "      <td>0.0</td>\n",
       "      <td>4750.000000</td>\n",
       "      <td>0</td>\n",
       "      <td>15000</td>\n",
       "      <td>561.21</td>\n",
       "      <td>4510.85</td>\n",
       "      <td>291</td>\n",
       "    </tr>\n",
       "    <tr>\n",
       "      <th>1031</th>\n",
       "      <td>60</td>\n",
       "      <td>0.21832</td>\n",
       "      <td>0.1940</td>\n",
       "      <td>0.1840</td>\n",
       "      <td>4.0</td>\n",
       "      <td>1</td>\n",
       "      <td>0.0</td>\n",
       "      <td>5500.000000</td>\n",
       "      <td>0</td>\n",
       "      <td>5000</td>\n",
       "      <td>130.81</td>\n",
       "      <td>163.97</td>\n",
       "      <td>1</td>\n",
       "    </tr>\n",
       "    <tr>\n",
       "      <th>1032</th>\n",
       "      <td>36</td>\n",
       "      <td>0.19855</td>\n",
       "      <td>0.1765</td>\n",
       "      <td>0.1665</td>\n",
       "      <td>NaN</td>\n",
       "      <td>1</td>\n",
       "      <td>0.0</td>\n",
       "      <td>1666.666667</td>\n",
       "      <td>0</td>\n",
       "      <td>5000</td>\n",
       "      <td>179.89</td>\n",
       "      <td>1475.70</td>\n",
       "      <td>176</td>\n",
       "    </tr>\n",
       "    <tr>\n",
       "      <th>1033</th>\n",
       "      <td>60</td>\n",
       "      <td>0.29371</td>\n",
       "      <td>0.2699</td>\n",
       "      <td>0.2599</td>\n",
       "      <td>5.0</td>\n",
       "      <td>2</td>\n",
       "      <td>0.0</td>\n",
       "      <td>2681.000000</td>\n",
       "      <td>0</td>\n",
       "      <td>10000</td>\n",
       "      <td>305.29</td>\n",
       "      <td>5777.86</td>\n",
       "      <td>148</td>\n",
       "    </tr>\n",
       "    <tr>\n",
       "      <th>1034</th>\n",
       "      <td>36</td>\n",
       "      <td>0.10692</td>\n",
       "      <td>0.1000</td>\n",
       "      <td>0.0950</td>\n",
       "      <td>NaN</td>\n",
       "      <td>0</td>\n",
       "      <td>NaN</td>\n",
       "      <td>4160.000000</td>\n",
       "      <td>0</td>\n",
       "      <td>19500</td>\n",
       "      <td>626.60</td>\n",
       "      <td>3154.17</td>\n",
       "      <td>302</td>\n",
       "    </tr>\n",
       "  </tbody>\n",
       "</table>\n",
       "<p>1035 rows × 13 columns</p>\n",
       "</div>"
      ],
      "text/plain": [
       "      Term  BorrowerAPR  BorrowerRate  LenderYield  ProsperScore  \\\n",
       "0       36      0.16516        0.1580       0.1380           NaN   \n",
       "1       36      0.12016        0.0920       0.0820           7.0   \n",
       "2       36      0.28269        0.2750       0.2400           NaN   \n",
       "3       36      0.12528        0.0974       0.0874           9.0   \n",
       "4       36      0.24614        0.2085       0.1985           4.0   \n",
       "...    ...          ...           ...          ...           ...   \n",
       "1030    36      0.24246        0.2049       0.1949           7.0   \n",
       "1031    60      0.21832        0.1940       0.1840           4.0   \n",
       "1032    36      0.19855        0.1765       0.1665           NaN   \n",
       "1033    60      0.29371        0.2699       0.2599           5.0   \n",
       "1034    36      0.10692        0.1000       0.0950           NaN   \n",
       "\n",
       "      ListingCategory (numeric)  AmountDelinquent  StatedMonthlyIncome  \\\n",
       "0                             0             472.0          3083.333333   \n",
       "1                             2               0.0          6125.000000   \n",
       "2                             0               NaN          2083.333333   \n",
       "3                            16           10056.0          2875.000000   \n",
       "4                             2               0.0          9583.333333   \n",
       "...                         ...               ...                  ...   \n",
       "1030                          1               0.0          4750.000000   \n",
       "1031                          1               0.0          5500.000000   \n",
       "1032                          1               0.0          1666.666667   \n",
       "1033                          2               0.0          2681.000000   \n",
       "1034                          0               NaN          4160.000000   \n",
       "\n",
       "      LoanCurrentDaysDelinquent  LoanOriginalAmount  MonthlyLoanPayment  \\\n",
       "0                             0                9425              330.43   \n",
       "1                             0               10000              318.93   \n",
       "2                             0                3001              123.32   \n",
       "3                             0               10000              321.45   \n",
       "4                             0               15000              563.97   \n",
       "...                         ...                 ...                 ...   \n",
       "1030                          0               15000              561.21   \n",
       "1031                          0                5000              130.81   \n",
       "1032                          0                5000              179.89   \n",
       "1033                          0               10000              305.29   \n",
       "1034                          0               19500              626.60   \n",
       "\n",
       "      LP_InterestandFees  Investors  \n",
       "0                1971.14        258  \n",
       "1                   0.00          1  \n",
       "2                1185.63         41  \n",
       "3                1052.11        158  \n",
       "4                1256.63         20  \n",
       "...                  ...        ...  \n",
       "1030             4510.85        291  \n",
       "1031              163.97          1  \n",
       "1032             1475.70        176  \n",
       "1033             5777.86        148  \n",
       "1034             3154.17        302  \n",
       "\n",
       "[1035 rows x 13 columns]"
      ]
     },
     "execution_count": 9,
     "metadata": {},
     "output_type": "execute_result"
    }
   ],
   "source": [
    "num_var=data.select_dtypes(np.number)\n",
    "num_var\n"
   ]
  },
  {
   "cell_type": "markdown",
   "metadata": {},
   "source": [
    "<h4 class=\"list-group-item list-group-item-action active\" >3. UNIVARIATE ANALYSIS</h4>\n",
    "\n",
    ">#### A. What are the main features of interest in your dataset?\n",
    "\n",
    "    Step1: Apply Univariate analysis using suitable charts for[ Loan status, Employment Status, Stated Monthly Income]\n",
    "\n",
    "    Step2: Check if any column distribution skew or not.\n",
    "\n",
    "    Step3: Write at least 2 observations for each visualization.\n",
    "\n",
    "\n"
   ]
  },
  {
   "cell_type": "markdown",
   "metadata": {},
   "source": [
    "### Univariate analysis of Loan status using scatter plot"
   ]
  },
  {
   "cell_type": "markdown",
   "metadata": {},
   "source": [
    "# Step 1:"
   ]
  },
  {
   "cell_type": "code",
   "execution_count": 177,
   "metadata": {},
   "outputs": [
    {
     "data": {
      "image/png": "[encoded data removed]",
      "text/plain": [
       "<Figure size 720x576 with 1 Axes>"
      ]
     },
     "metadata": {
      "needs_background": "light"
     },
     "output_type": "display_data"
    },
    {
     "data": {
      "text/plain": [
       "<Figure size 720x432 with 0 Axes>"
      ]
     },
     "metadata": {},
     "output_type": "display_data"
    }
   ],
   "source": [
    "sns.scatterplot(data.index,data['LoanStatus'])\n",
    "plt.figure(figsize=(10,6))\n",
    "plt.show()"
   ]
  },
  {
   "cell_type": "markdown",
   "metadata": {},
   "source": [
    "### Univariate analysis of Loan status using histogram"
   ]
  },
  {
   "cell_type": "code",
   "execution_count": 178,
   "metadata": {},
   "outputs": [
    {
     "data": {
      "image/png": "[encoded data removed]",
      "text/plain": [
       "<Figure size 720x576 with 1 Axes>"
      ]
     },
     "metadata": {
      "needs_background": "light"
     },
     "output_type": "display_data"
    },
    {
     "data": {
      "text/plain": [
       "<Figure size 720x576 with 0 Axes>"
      ]
     },
     "metadata": {},
     "output_type": "display_data"
    }
   ],
   "source": [
    "plt.hist(data['LoanStatus'],rwidth=0.8,orientation='horizontal')\n",
    "plt.figure(figsize=(10,8))\n",
    "plt.show()"
   ]
  },
  {
   "cell_type": "markdown",
   "metadata": {},
   "source": [
    "### Univariate analysis of  Employment Status using scatter plot"
   ]
  },
  {
   "cell_type": "code",
   "execution_count": 179,
   "metadata": {},
   "outputs": [
    {
     "data": {
      "image/png": "[encoded data removed]",
      "text/plain": [
       "<Figure size 720x576 with 1 Axes>"
      ]
     },
     "metadata": {
      "needs_background": "light"
     },
     "output_type": "display_data"
    },
    {
     "data": {
      "text/plain": [
       "<Figure size 720x432 with 0 Axes>"
      ]
     },
     "metadata": {},
     "output_type": "display_data"
    }
   ],
   "source": [
    "sns.scatterplot(data.index,data['EmploymentStatus'])\n",
    "plt.figure(figsize=(10,6))\n",
    "plt.show()"
   ]
  },
  {
   "cell_type": "markdown",
   "metadata": {},
   "source": [
    "### Univariate analysis of Employment Status using histogram"
   ]
  },
  {
   "cell_type": "code",
   "execution_count": 180,
   "metadata": {},
   "outputs": [
    {
     "data": {
      "image/png": "[encoded data removed]",
      "text/plain": [
       "<Figure size 720x576 with 1 Axes>"
      ]
     },
     "metadata": {
      "needs_background": "light"
     },
     "output_type": "display_data"
    },
    {
     "data": {
      "text/plain": [
       "<Figure size 720x432 with 0 Axes>"
      ]
     },
     "metadata": {},
     "output_type": "display_data"
    }
   ],
   "source": [
    "plt.hist(data['StatedMonthlyIncome'],rwidth=0.8,orientation='horizontal')\n",
    "plt.figure(figsize=(10,6))\n",
    "plt.show()"
   ]
  },
  {
   "cell_type": "markdown",
   "metadata": {},
   "source": [
    "### Univariate analysis of Stated Monthly Income using scatter plot"
   ]
  },
  {
   "cell_type": "code",
   "execution_count": 181,
   "metadata": {},
   "outputs": [
    {
     "data": {
      "image/png": "[encoded data removed]",
      "text/plain": [
       "<Figure size 720x576 with 1 Axes>"
      ]
     },
     "metadata": {
      "needs_background": "light"
     },
     "output_type": "display_data"
    },
    {
     "data": {
      "text/plain": [
       "<Figure size 720x432 with 0 Axes>"
      ]
     },
     "metadata": {},
     "output_type": "display_data"
    }
   ],
   "source": [
    "sns.scatterplot(data.index,data['StatedMonthlyIncome'])\n",
    "plt.figure(figsize=(10,6))\n",
    "plt.show()"
   ]
  },
  {
   "cell_type": "markdown",
   "metadata": {},
   "source": [
    "### Step 2 :Check if any column distribution skew or not."
   ]
  },
  {
   "cell_type": "code",
   "execution_count": 182,
   "metadata": {},
   "outputs": [
    {
     "data": {
      "text/plain": [
       "Term                          1.044179\n",
       "BorrowerAPR                   0.267334\n",
       "BorrowerRate                  0.314124\n",
       "LenderYield                   0.331794\n",
       "ProsperScore                  0.149154\n",
       "ListingCategory (numeric)     2.277709\n",
       "AmountDelinquent             15.554333\n",
       "StatedMonthlyIncome           3.225084\n",
       "LoanCurrentDaysDelinquent     3.694044\n",
       "LoanOriginalAmount            1.180358\n",
       "MonthlyLoanPayment            1.247707\n",
       "LP_InterestandFees            2.345340\n",
       "Investors                     2.303866\n",
       "dtype: float64"
      ]
     },
     "execution_count": 182,
     "metadata": {},
     "output_type": "execute_result"
    }
   ],
   "source": [
    "data.skew()"
   ]
  },
  {
   "cell_type": "code",
   "execution_count": 10,
   "metadata": {},
   "outputs": [
    {
     "data": {
      "text/plain": [
       "<AxesSubplot:ylabel='Density'>"
      ]
     },
     "execution_count": 10,
     "metadata": {},
     "output_type": "execute_result"
    },
    {
     "data": {
      "image/png": "[encoded data removed]",
      "text/plain": [
       "<Figure size 432x288 with 1 Axes>"
      ]
     },
     "metadata": {
      "needs_background": "light"
     },
     "output_type": "display_data"
    }
   ],
   "source": [
    "sns.distplot(num_var)"
   ]
  },
  {
   "cell_type": "markdown",
   "metadata": {},
   "source": [
    "### Step3: Write at least 2 observations for each visualization."
   ]
  },
  {
   "cell_type": "markdown",
   "metadata": {},
   "source": [
    "After caluclating a skew, column it can be clearly seen that the graph is Right Skewed, That means we have more number of outliers in the right hand side of the curve"
   ]
  },
  {
   "cell_type": "markdown",
   "metadata": {},
   "source": [
    "<h4 class=\"list-group-item list-group-item-action active\" >4. BIVARIATE ANALYSIS</h4>\n",
    "\n",
    ">#### A. Check the correlation matrix for all numeric variables. Maintain the Strong positive and Negative correlations columns.\n",
    ">#### B. Check the relation between `LoanOriginalAmount` and `BorrowerAPR` columns. \n",
    "\n",
    "    Step1: Use subplots. \n",
    "    \n",
    "        Plot1: Scatter Plot of LoanOriginalAmount and BorrowerAPR columns    \n",
    "\n",
    "        Plot2: HeatMap of LoanOriginalAmount and BorrowerAPR\n",
    "        \n",
    "    Step2: Write your observations.         \n",
    "        \n",
    ">#### C.Display the seperate box plot for `y = BorrowerAPR`  with x1 = `LoanStatus`, x2 = `EmploymentStatus` columns.Write your observations. \n"
   ]
  },
  {
   "cell_type": "markdown",
   "metadata": {},
   "source": [
    "#### A. Check the correlation matrix for all numeric variables. Maintain the Strong positive and Negative correlations columns."
   ]
  },
  {
   "cell_type": "code",
   "execution_count": 183,
   "metadata": {},
   "outputs": [
    {
     "data": {
      "text/plain": [
       "Index(['Term', 'BorrowerAPR', 'BorrowerRate', 'LenderYield', 'ProsperScore',\n",
       "       'ListingCategory (numeric)', 'AmountDelinquent', 'StatedMonthlyIncome',\n",
       "       'LoanCurrentDaysDelinquent', 'LoanOriginalAmount', 'MonthlyLoanPayment',\n",
       "       'LP_InterestandFees', 'Investors'],\n",
       "      dtype='object')"
      ]
     },
     "execution_count": 183,
     "metadata": {},
     "output_type": "execute_result"
    }
   ],
   "source": [
    "#1st separated the numaric variables and categorical variables \n",
    "numeric_variables=data.select_dtypes(include=np.number)\n",
    "numeric_variables.columns"
   ]
  },
  {
   "cell_type": "code",
   "execution_count": 184,
   "metadata": {},
   "outputs": [
    {
     "data": {
      "text/html": [
       "<div>\n",
       "<style scoped>\n",
       "    .dataframe tbody tr th:only-of-type {\n",
       "        vertical-align: middle;\n",
       "    }\n",
       "\n",
       "    .dataframe tbody tr th {\n",
       "        vertical-align: top;\n",
       "    }\n",
       "\n",
       "    .dataframe thead th {\n",
       "        text-align: right;\n",
       "    }\n",
       "</style>\n",
       "<table border=\"1\" class=\"dataframe\">\n",
       "  <thead>\n",
       "    <tr style=\"text-align: right;\">\n",
       "      <th></th>\n",
       "      <th>Term</th>\n",
       "      <th>BorrowerAPR</th>\n",
       "      <th>BorrowerRate</th>\n",
       "      <th>LenderYield</th>\n",
       "      <th>ProsperScore</th>\n",
       "      <th>ListingCategory (numeric)</th>\n",
       "      <th>AmountDelinquent</th>\n",
       "      <th>StatedMonthlyIncome</th>\n",
       "      <th>LoanCurrentDaysDelinquent</th>\n",
       "      <th>LoanOriginalAmount</th>\n",
       "      <th>MonthlyLoanPayment</th>\n",
       "      <th>LP_InterestandFees</th>\n",
       "      <th>Investors</th>\n",
       "    </tr>\n",
       "  </thead>\n",
       "  <tbody>\n",
       "    <tr>\n",
       "      <th>Term</th>\n",
       "      <td>1.000000</td>\n",
       "      <td>-0.044058</td>\n",
       "      <td>-0.014094</td>\n",
       "      <td>-0.013188</td>\n",
       "      <td>0.090518</td>\n",
       "      <td>-0.036781</td>\n",
       "      <td>-0.058617</td>\n",
       "      <td>0.105244</td>\n",
       "      <td>-0.126056</td>\n",
       "      <td>0.355824</td>\n",
       "      <td>0.104524</td>\n",
       "      <td>0.108435</td>\n",
       "      <td>-0.074994</td>\n",
       "    </tr>\n",
       "    <tr>\n",
       "      <th>BorrowerAPR</th>\n",
       "      <td>-0.044058</td>\n",
       "      <td>1.000000</td>\n",
       "      <td>0.989962</td>\n",
       "      <td>0.989498</td>\n",
       "      <td>-0.640320</td>\n",
       "      <td>0.173637</td>\n",
       "      <td>0.029008</td>\n",
       "      <td>-0.199210</td>\n",
       "      <td>0.108360</td>\n",
       "      <td>-0.305032</td>\n",
       "      <td>-0.202339</td>\n",
       "      <td>0.176953</td>\n",
       "      <td>-0.282639</td>\n",
       "    </tr>\n",
       "    <tr>\n",
       "      <th>BorrowerRate</th>\n",
       "      <td>-0.014094</td>\n",
       "      <td>0.989962</td>\n",
       "      <td>1.000000</td>\n",
       "      <td>0.998986</td>\n",
       "      <td>-0.619934</td>\n",
       "      <td>0.139176</td>\n",
       "      <td>0.019442</td>\n",
       "      <td>-0.214624</td>\n",
       "      <td>0.155858</td>\n",
       "      <td>-0.312473</td>\n",
       "      <td>-0.220645</td>\n",
       "      <td>0.210123</td>\n",
       "      <td>-0.251938</td>\n",
       "    </tr>\n",
       "    <tr>\n",
       "      <th>LenderYield</th>\n",
       "      <td>-0.013188</td>\n",
       "      <td>0.989498</td>\n",
       "      <td>0.998986</td>\n",
       "      <td>1.000000</td>\n",
       "      <td>-0.619934</td>\n",
       "      <td>0.141883</td>\n",
       "      <td>0.019392</td>\n",
       "      <td>-0.211835</td>\n",
       "      <td>0.152973</td>\n",
       "      <td>-0.311028</td>\n",
       "      <td>-0.219325</td>\n",
       "      <td>0.210511</td>\n",
       "      <td>-0.251405</td>\n",
       "    </tr>\n",
       "    <tr>\n",
       "      <th>ProsperScore</th>\n",
       "      <td>0.090518</td>\n",
       "      <td>-0.640320</td>\n",
       "      <td>-0.619934</td>\n",
       "      <td>-0.619934</td>\n",
       "      <td>1.000000</td>\n",
       "      <td>-0.041906</td>\n",
       "      <td>-0.062707</td>\n",
       "      <td>0.199536</td>\n",
       "      <td>-0.072170</td>\n",
       "      <td>0.245904</td>\n",
       "      <td>0.144268</td>\n",
       "      <td>0.016248</td>\n",
       "      <td>0.311131</td>\n",
       "    </tr>\n",
       "    <tr>\n",
       "      <th>ListingCategory (numeric)</th>\n",
       "      <td>-0.036781</td>\n",
       "      <td>0.173637</td>\n",
       "      <td>0.139176</td>\n",
       "      <td>0.141883</td>\n",
       "      <td>-0.041906</td>\n",
       "      <td>1.000000</td>\n",
       "      <td>0.082391</td>\n",
       "      <td>-0.028607</td>\n",
       "      <td>-0.100537</td>\n",
       "      <td>-0.149829</td>\n",
       "      <td>-0.132172</td>\n",
       "      <td>-0.011305</td>\n",
       "      <td>-0.067928</td>\n",
       "    </tr>\n",
       "    <tr>\n",
       "      <th>AmountDelinquent</th>\n",
       "      <td>-0.058617</td>\n",
       "      <td>0.029008</td>\n",
       "      <td>0.019442</td>\n",
       "      <td>0.019392</td>\n",
       "      <td>-0.062707</td>\n",
       "      <td>0.082391</td>\n",
       "      <td>1.000000</td>\n",
       "      <td>-0.013594</td>\n",
       "      <td>0.010723</td>\n",
       "      <td>-0.068893</td>\n",
       "      <td>-0.059737</td>\n",
       "      <td>-0.059239</td>\n",
       "      <td>-0.055755</td>\n",
       "    </tr>\n",
       "    <tr>\n",
       "      <th>StatedMonthlyIncome</th>\n",
       "      <td>0.105244</td>\n",
       "      <td>-0.199210</td>\n",
       "      <td>-0.214624</td>\n",
       "      <td>-0.211835</td>\n",
       "      <td>0.199536</td>\n",
       "      <td>-0.028607</td>\n",
       "      <td>-0.013594</td>\n",
       "      <td>1.000000</td>\n",
       "      <td>-0.057888</td>\n",
       "      <td>0.432787</td>\n",
       "      <td>0.405985</td>\n",
       "      <td>0.119956</td>\n",
       "      <td>0.113668</td>\n",
       "    </tr>\n",
       "    <tr>\n",
       "      <th>LoanCurrentDaysDelinquent</th>\n",
       "      <td>-0.126056</td>\n",
       "      <td>0.108360</td>\n",
       "      <td>0.155858</td>\n",
       "      <td>0.152973</td>\n",
       "      <td>-0.072170</td>\n",
       "      <td>-0.100537</td>\n",
       "      <td>0.010723</td>\n",
       "      <td>-0.057888</td>\n",
       "      <td>1.000000</td>\n",
       "      <td>-0.065866</td>\n",
       "      <td>-0.020760</td>\n",
       "      <td>0.080106</td>\n",
       "      <td>0.092322</td>\n",
       "    </tr>\n",
       "    <tr>\n",
       "      <th>LoanOriginalAmount</th>\n",
       "      <td>0.355824</td>\n",
       "      <td>-0.305032</td>\n",
       "      <td>-0.312473</td>\n",
       "      <td>-0.311028</td>\n",
       "      <td>0.245904</td>\n",
       "      <td>-0.149829</td>\n",
       "      <td>-0.068893</td>\n",
       "      <td>0.432787</td>\n",
       "      <td>-0.065866</td>\n",
       "      <td>1.000000</td>\n",
       "      <td>0.938081</td>\n",
       "      <td>0.376891</td>\n",
       "      <td>0.367847</td>\n",
       "    </tr>\n",
       "    <tr>\n",
       "      <th>MonthlyLoanPayment</th>\n",
       "      <td>0.104524</td>\n",
       "      <td>-0.202339</td>\n",
       "      <td>-0.220645</td>\n",
       "      <td>-0.219325</td>\n",
       "      <td>0.144268</td>\n",
       "      <td>-0.132172</td>\n",
       "      <td>-0.059737</td>\n",
       "      <td>0.405985</td>\n",
       "      <td>-0.020760</td>\n",
       "      <td>0.938081</td>\n",
       "      <td>1.000000</td>\n",
       "      <td>0.424808</td>\n",
       "      <td>0.378563</td>\n",
       "    </tr>\n",
       "    <tr>\n",
       "      <th>LP_InterestandFees</th>\n",
       "      <td>0.108435</td>\n",
       "      <td>0.176953</td>\n",
       "      <td>0.210123</td>\n",
       "      <td>0.210511</td>\n",
       "      <td>0.016248</td>\n",
       "      <td>-0.011305</td>\n",
       "      <td>-0.059239</td>\n",
       "      <td>0.119956</td>\n",
       "      <td>0.080106</td>\n",
       "      <td>0.376891</td>\n",
       "      <td>0.424808</td>\n",
       "      <td>1.000000</td>\n",
       "      <td>0.421257</td>\n",
       "    </tr>\n",
       "    <tr>\n",
       "      <th>Investors</th>\n",
       "      <td>-0.074994</td>\n",
       "      <td>-0.282639</td>\n",
       "      <td>-0.251938</td>\n",
       "      <td>-0.251405</td>\n",
       "      <td>0.311131</td>\n",
       "      <td>-0.067928</td>\n",
       "      <td>-0.055755</td>\n",
       "      <td>0.113668</td>\n",
       "      <td>0.092322</td>\n",
       "      <td>0.367847</td>\n",
       "      <td>0.378563</td>\n",
       "      <td>0.421257</td>\n",
       "      <td>1.000000</td>\n",
       "    </tr>\n",
       "  </tbody>\n",
       "</table>\n",
       "</div>"
      ],
      "text/plain": [
       "                               Term  BorrowerAPR  BorrowerRate  LenderYield  \\\n",
       "Term                       1.000000    -0.044058     -0.014094    -0.013188   \n",
       "BorrowerAPR               -0.044058     1.000000      0.989962     0.989498   \n",
       "BorrowerRate              -0.014094     0.989962      1.000000     0.998986   \n",
       "LenderYield               -0.013188     0.989498      0.998986     1.000000   \n",
       "ProsperScore               0.090518    -0.640320     -0.619934    -0.619934   \n",
       "ListingCategory (numeric) -0.036781     0.173637      0.139176     0.141883   \n",
       "AmountDelinquent          -0.058617     0.029008      0.019442     0.019392   \n",
       "StatedMonthlyIncome        0.105244    -0.199210     -0.214624    -0.211835   \n",
       "LoanCurrentDaysDelinquent -0.126056     0.108360      0.155858     0.152973   \n",
       "LoanOriginalAmount         0.355824    -0.305032     -0.312473    -0.311028   \n",
       "MonthlyLoanPayment         0.104524    -0.202339     -0.220645    -0.219325   \n",
       "LP_InterestandFees         0.108435     0.176953      0.210123     0.210511   \n",
       "Investors                 -0.074994    -0.282639     -0.251938    -0.251405   \n",
       "\n",
       "                           ProsperScore  ListingCategory (numeric)  \\\n",
       "Term                           0.090518                  -0.036781   \n",
       "BorrowerAPR                   -0.640320                   0.173637   \n",
       "BorrowerRate                  -0.619934                   0.139176   \n",
       "LenderYield                   -0.619934                   0.141883   \n",
       "ProsperScore                   1.000000                  -0.041906   \n",
       "ListingCategory (numeric)     -0.041906                   1.000000   \n",
       "AmountDelinquent              -0.062707                   0.082391   \n",
       "StatedMonthlyIncome            0.199536                  -0.028607   \n",
       "LoanCurrentDaysDelinquent     -0.072170                  -0.100537   \n",
       "LoanOriginalAmount             0.245904                  -0.149829   \n",
       "MonthlyLoanPayment             0.144268                  -0.132172   \n",
       "LP_InterestandFees             0.016248                  -0.011305   \n",
       "Investors                      0.311131                  -0.067928   \n",
       "\n",
       "                           AmountDelinquent  StatedMonthlyIncome  \\\n",
       "Term                              -0.058617             0.105244   \n",
       "BorrowerAPR                        0.029008            -0.199210   \n",
       "BorrowerRate                       0.019442            -0.214624   \n",
       "LenderYield                        0.019392            -0.211835   \n",
       "ProsperScore                      -0.062707             0.199536   \n",
       "ListingCategory (numeric)          0.082391            -0.028607   \n",
       "AmountDelinquent                   1.000000            -0.013594   \n",
       "StatedMonthlyIncome               -0.013594             1.000000   \n",
       "LoanCurrentDaysDelinquent          0.010723            -0.057888   \n",
       "LoanOriginalAmount                -0.068893             0.432787   \n",
       "MonthlyLoanPayment                -0.059737             0.405985   \n",
       "LP_InterestandFees                -0.059239             0.119956   \n",
       "Investors                         -0.055755             0.113668   \n",
       "\n",
       "                           LoanCurrentDaysDelinquent  LoanOriginalAmount  \\\n",
       "Term                                       -0.126056            0.355824   \n",
       "BorrowerAPR                                 0.108360           -0.305032   \n",
       "BorrowerRate                                0.155858           -0.312473   \n",
       "LenderYield                                 0.152973           -0.311028   \n",
       "ProsperScore                               -0.072170            0.245904   \n",
       "ListingCategory (numeric)                  -0.100537           -0.149829   \n",
       "AmountDelinquent                            0.010723           -0.068893   \n",
       "StatedMonthlyIncome                        -0.057888            0.432787   \n",
       "LoanCurrentDaysDelinquent                   1.000000           -0.065866   \n",
       "LoanOriginalAmount                         -0.065866            1.000000   \n",
       "MonthlyLoanPayment                         -0.020760            0.938081   \n",
       "LP_InterestandFees                          0.080106            0.376891   \n",
       "Investors                                   0.092322            0.367847   \n",
       "\n",
       "                           MonthlyLoanPayment  LP_InterestandFees  Investors  \n",
       "Term                                 0.104524            0.108435  -0.074994  \n",
       "BorrowerAPR                         -0.202339            0.176953  -0.282639  \n",
       "BorrowerRate                        -0.220645            0.210123  -0.251938  \n",
       "LenderYield                         -0.219325            0.210511  -0.251405  \n",
       "ProsperScore                         0.144268            0.016248   0.311131  \n",
       "ListingCategory (numeric)           -0.132172           -0.011305  -0.067928  \n",
       "AmountDelinquent                    -0.059737           -0.059239  -0.055755  \n",
       "StatedMonthlyIncome                  0.405985            0.119956   0.113668  \n",
       "LoanCurrentDaysDelinquent           -0.020760            0.080106   0.092322  \n",
       "LoanOriginalAmount                   0.938081            0.376891   0.367847  \n",
       "MonthlyLoanPayment                   1.000000            0.424808   0.378563  \n",
       "LP_InterestandFees                   0.424808            1.000000   0.421257  \n",
       "Investors                            0.378563            0.421257   1.000000  "
      ]
     },
     "execution_count": 184,
     "metadata": {},
     "output_type": "execute_result"
    }
   ],
   "source": [
    "numeric_variables_corr=numeric_variables.corr()\n",
    "numeric_variables_corr"
   ]
  },
  {
   "cell_type": "code",
   "execution_count": 185,
   "metadata": {},
   "outputs": [
    {
     "data": {
      "text/plain": [
       "<AxesSubplot:>"
      ]
     },
     "execution_count": 185,
     "metadata": {},
     "output_type": "execute_result"
    },
    {
     "data": {
      "image/png": "[encoded data removed]",
      "text/plain": [
       "<Figure size 720x576 with 2 Axes>"
      ]
     },
     "metadata": {
      "needs_background": "light"
     },
     "output_type": "display_data"
    }
   ],
   "source": [
    "sns.heatmap(numeric_variables_corr,annot=True)"
   ]
  },
  {
   "cell_type": "code",
   "execution_count": 186,
   "metadata": {},
   "outputs": [],
   "source": [
    "def correlation(numeric_variables_corr,threshold):\n",
    "    col_corr=set()\n",
    "    corr_matrix = numeric_variables.corr()\n",
    "    for i in range(len(corr_matrix.columns)):\n",
    "        for j in range(i):\n",
    "            if abs(corr_matrix.iloc[i,j])>threshold:\n",
    "                colname=corr_matrix.columns[i]\n",
    "                col_corr.add(colname)\n",
    "    return col_corr"
   ]
  },
  {
   "cell_type": "code",
   "execution_count": 187,
   "metadata": {},
   "outputs": [
    {
     "data": {
      "text/plain": [
       "{'BorrowerRate', 'LenderYield', 'MonthlyLoanPayment'}"
      ]
     },
     "execution_count": 187,
     "metadata": {},
     "output_type": "execute_result"
    }
   ],
   "source": [
    "corr= correlation(numeric_variables_corr,0.70)\n",
    "corr"
   ]
  },
  {
   "cell_type": "markdown",
   "metadata": {},
   "source": [
    "from the above observation 'BorrowerRate','LenderYield' and 'MonthlyLoanPayment' are highly correlated  "
   ]
  },
  {
   "cell_type": "markdown",
   "metadata": {},
   "source": [
    "#### B. Check the relation between LoanOriginalAmount and BorrowerAPR columns."
   ]
  },
  {
   "cell_type": "code",
   "execution_count": 188,
   "metadata": {},
   "outputs": [
    {
     "data": {
      "image/png": "[encoded data removed]",
      "text/plain": [
       "<Figure size 720x576 with 1 Axes>"
      ]
     },
     "metadata": {
      "needs_background": "light"
     },
     "output_type": "display_data"
    },
    {
     "data": {
      "image/png": "[encoded data removed]",
      "text/plain": [
       "<Figure size 720x576 with 2 Axes>"
      ]
     },
     "metadata": {
      "needs_background": "light"
     },
     "output_type": "display_data"
    }
   ],
   "source": [
    "plt.subplot(1,2,1)\n",
    "plt.scatter(data['BorrowerAPR'],data['LoanOriginalAmount'])\n",
    "plt.xlabel('BorrowerAPR',fontsize=15,color='r')\n",
    "plt.ylabel('LoanOriginalAmount',fontsize=15,color='r')\n",
    "plt.title('Scatter Plot of LoanOriginalAmount and BorrowerAPR columns ',fontsize=18,color='g')\n",
    "plt.show()\n",
    "\n",
    "plt.subplot(1,2,2)\n",
    "rel_lb=['LoanOriginalAmount','BorrowerAPR']\n",
    "sns.heatmap(data[rel_lb].corr(),annot=True)\n",
    "plt.title('HeatMap of LoanOriginalAmount and BorrowerAPR',fontsize=18,color='g')\n",
    "plt.show()"
   ]
  },
  {
   "cell_type": "markdown",
   "metadata": {},
   "source": [
    "### Step2: Write your observations."
   ]
  },
  {
   "cell_type": "markdown",
   "metadata": {},
   "source": [
    "From the Heat Map plot we can seen that LoanOriginalAmount and BorrowerAPR have a negative correlation That means if one value increases then the other decreases and vice versa, They are inversely proportion to each other."
   ]
  },
  {
   "cell_type": "markdown",
   "metadata": {},
   "source": [
    "#### C.Display the seperate box plot for y = BorrowerAPR with x1 = LoanStatus, x2 = EmploymentStatus columns.Write your observations."
   ]
  },
  {
   "cell_type": "code",
   "execution_count": 189,
   "metadata": {},
   "outputs": [
    {
     "data": {
      "image/png": "[encoded data removed]",
      "text/plain": [
       "<Figure size 720x576 with 1 Axes>"
      ]
     },
     "metadata": {
      "needs_background": "light"
     },
     "output_type": "display_data"
    },
    {
     "data": {
      "text/plain": [
       "<Figure size 1080x1080 with 0 Axes>"
      ]
     },
     "metadata": {},
     "output_type": "display_data"
    }
   ],
   "source": [
    "sns.boxplot(data['BorrowerAPR'],data['LoanStatus'])\n",
    "plt.figure(figsize=(15,15))\n",
    "plt.show()\n"
   ]
  },
  {
   "cell_type": "code",
   "execution_count": 190,
   "metadata": {},
   "outputs": [
    {
     "data": {
      "image/png": "[encoded data removed]",
      "text/plain": [
       "<Figure size 720x576 with 1 Axes>"
      ]
     },
     "metadata": {
      "needs_background": "light"
     },
     "output_type": "display_data"
    },
    {
     "data": {
      "text/plain": [
       "<Figure size 1080x1080 with 0 Axes>"
      ]
     },
     "metadata": {},
     "output_type": "display_data"
    }
   ],
   "source": [
    "sns.boxplot(data['BorrowerAPR'],data['EmploymentStatus'])\n",
    "plt.figure(figsize=(15,15))\n",
    "plt.show()"
   ]
  },
  {
   "cell_type": "markdown",
   "metadata": {},
   "source": [
    "### observations"
   ]
  },
  {
   "cell_type": "markdown",
   "metadata": {},
   "source": [
    "There are some ouliers present in Past Due (60-90 Days) column\n",
    "\n",
    "\n",
    "Loan Status for Past Due (16-30 Days) has the highest Borrower APR"
   ]
  },
  {
   "cell_type": "markdown",
   "metadata": {},
   "source": [
    "<h4 class=\"list-group-item list-group-item-action active\" >5.  MULTI VARIATE ANALYSIS, FEATURE ENGINEERING</h4>\n",
    "\n",
    ">#### A. Write a program\n",
    "\n",
    "    Step 1: Create a  condition = 'LoanStatus'== 'Completed'| 'LoanStatus' == 'Defaulted' |\\'LoanStatus' == 'Chargedoff'\n",
    "\n",
    "    Step2: Create a user define function  using condition and `LoanStatus` column.\n",
    "\n",
    "    Hint: df['LoanStatus'] = df.apply(user define function , axis=1)\n",
    "    \n",
    "        Sample output : \n",
    "        \n",
    "        \n",
    "        Completed    168\n",
    "        \n",
    "        Defaulted     59\n",
    "\n",
    "\n",
    ">#### B. Write a program\n",
    "\n",
    "    Step 1: Create a  dictionary called categories = 1: 'Debt Consolidation', 2: 'Home Improvement', 3: 'Business', 6: 'Auto', 7: 'Other'\n",
    "\n",
    "    Step2: Create a user define function  using categories and `ListingCategory (numeric)` column.\n",
    "\n",
    "    Hint: df['ListingCategory (numeric)'] = df.apply(user define function , axis=1)\n",
    "    \n",
    "        Sample output : \n",
    "        \n",
    "        \n",
    "        Debt Consolidation    106\n",
    "\n",
    "        Other                  65\n",
    "\n",
    "        Business               25\n",
    "\n",
    "        Home Improvement       22\n",
    "\n",
    "        Auto                    9\n",
    "\n",
    ">#### C. Display the box plot for `ProsperRating (Alpha)` vs `LoanOriginalAmount` and hue = `Loan Status`[Completed,Defaulted]. Write your observations.\n",
    "\n",
    ">#### D. Display the catplot for `ProsperRating (Alpha)` vs `ListingCategory (numeric)`[Debt Consolidation,Other,Business,Home Improvement,Auto] and hue = `Loan Status`[Completed,Defaulted]. Write your observations."
   ]
  },
  {
   "cell_type": "markdown",
   "metadata": {},
   "source": [
    "# A. Write a program\n",
    "Step 1: Create a  condition = 'LoanStatus'== 'Completed'| 'LoanStatus' == 'Defaulted' |\\'LoanStatus' == 'Chargedoff'\n",
    "\n",
    "Step2: Create a user define function  using condition and `LoanStatus` column.\n",
    "\n",
    "Hint: df['LoanStatus'] = df.apply(user define function , axis=1)\n",
    "\n",
    "    Sample output : \n",
    "\n",
    "\n",
    "    Completed    168\n",
    "\n",
    "    Defaulted     59"
   ]
  },
  {
   "cell_type": "code",
   "execution_count": 191,
   "metadata": {},
   "outputs": [],
   "source": [
    "# step : 1 Create a condition = 'LoanStatus'== 'Completed'| 'LoanStatus' == 'Defaulted' |'LoanStatus' == 'Chargedoff'\n",
    "data1=data[(data['LoanStatus']=='Completed') | (data['LoanStatus']=='Defaulted') | (data['LoanStatus']=='Chargedoff')]"
   ]
  },
  {
   "cell_type": "code",
   "execution_count": 221,
   "metadata": {},
   "outputs": [],
   "source": [
    "# step 2 : Create a user define function using condition and LoanStatus column.       \n",
    "def loanstatus(data1):\n",
    "    if data1 in ['Completed','Defaulted','ChargedOff']:\n",
    "        \n",
    "        return data1    "
   ]
  },
  {
   "cell_type": "code",
   "execution_count": 222,
   "metadata": {},
   "outputs": [],
   "source": [
    "data1['LoanStatus']=data1['LoanStatus'].apply(loanstatus)"
   ]
  },
  {
   "cell_type": "code",
   "execution_count": 223,
   "metadata": {},
   "outputs": [
    {
     "data": {
      "text/plain": [
       "Completed    332\n",
       "Defaulted     51\n",
       "Name: LoanStatus, dtype: int64"
      ]
     },
     "execution_count": 223,
     "metadata": {},
     "output_type": "execute_result"
    }
   ],
   "source": [
    "data1['LoanStatus'].value_counts()"
   ]
  },
  {
   "cell_type": "markdown",
   "metadata": {},
   "source": [
    "# B. Write a program"
   ]
  },
  {
   "cell_type": "markdown",
   "metadata": {},
   "source": [
    "\n",
    "Step 1: Create a  dictionary called categories = 1: 'Debt Consolidation', 2: 'Home Improvement', 3: 'Business', 6: 'Auto', 7: 'Other'\n",
    "\n",
    "Step2: Create a user define function  using categories and `ListingCategory (numeric)` column.\n",
    "\n",
    "Hint: df['ListingCategory (numeric)'] = df.apply(user define function , axis=1)\n",
    "\n",
    "    Sample output : \n",
    "\n",
    "\n",
    "    Debt Consolidation    106\n",
    "\n",
    "    Other                  65\n",
    "\n",
    "    Business               25\n",
    "\n",
    "    Home Improvement       22\n",
    "\n",
    "    Auto                    9"
   ]
  },
  {
   "cell_type": "code",
   "execution_count": 199,
   "metadata": {},
   "outputs": [
    {
     "data": {
      "text/plain": [
       "{1: 'Debt Consolidation',\n",
       " 2: 'Home Improvement',\n",
       " 3: 'Business',\n",
       " 4: 'Auto',\n",
       " 7: 'Other'}"
      ]
     },
     "execution_count": 199,
     "metadata": {},
     "output_type": "execute_result"
    }
   ],
   "source": [
    "# step 1: Step 1: Create a dictionary called categories = 1: 'Debt Consolidation', 2: 'Home Improvement', 3: 'Business', 6: 'Auto', 7: 'Other'\n",
    "categories = {1:'Debt Consolidation',2:'Home Improvement',3:'Business',4:'Auto',7:'Other'}\n",
    "categories"
   ]
  },
  {
   "cell_type": "code",
   "execution_count": 218,
   "metadata": {},
   "outputs": [],
   "source": [
    "# Step2: Create a user define function using categories and ListingCategory (numeric) column.\n",
    "def list_cat(categories):\n",
    "        if categories==1:\n",
    "            return 'Debt Consolidation'\n",
    "        elif categories==2:\n",
    "            return'Home Improvement'\n",
    "        elif categories==3:\n",
    "            return'Business'\n",
    "        elif categories==6:\n",
    "            return'Auto'\n",
    "        else:\n",
    "            return'Other'\n",
    "data['ListingCategory (numeric)'] = data['ListingCategory (numeric)'].apply(list_cat)"
   ]
  },
  {
   "cell_type": "code",
   "execution_count": 219,
   "metadata": {},
   "outputs": [
    {
     "data": {
      "text/plain": [
       "Debt Consolidation    525\n",
       "Other                 359\n",
       "Home Improvement       74\n",
       "Business               54\n",
       "Auto                   23\n",
       "Name: ListingCategory (numeric), dtype: int64"
      ]
     },
     "execution_count": 219,
     "metadata": {},
     "output_type": "execute_result"
    }
   ],
   "source": [
    "data['ListingCategory (numeric)'].value_counts()"
   ]
  },
  {
   "cell_type": "markdown",
   "metadata": {},
   "source": [
    "# C. Display the box plot for ProsperRating (Alpha) vs LoanOriginalAmount and hue = Loan Status[Completed,Defaulted]. Write your observations."
   ]
  },
  {
   "cell_type": "code",
   "execution_count": 215,
   "metadata": {},
   "outputs": [],
   "source": [
    "df=pd.DataFrame(data[(data['LoanStatus']=='Completed') | (data['LoanStatus']=='Defaulted')])"
   ]
  },
  {
   "cell_type": "code",
   "execution_count": 216,
   "metadata": {},
   "outputs": [
    {
     "data": {
      "text/plain": [
       "<AxesSubplot:xlabel='ProsperRating (Alpha)', ylabel='LoanOriginalAmount'>"
      ]
     },
     "execution_count": 216,
     "metadata": {},
     "output_type": "execute_result"
    },
    {
     "data": {
      "image/png": "[encoded data removed]",
      "text/plain": [
       "<Figure size 720x576 with 1 Axes>"
      ]
     },
     "metadata": {
      "needs_background": "light"
     },
     "output_type": "display_data"
    }
   ],
   "source": [
    "sns.boxplot(x='ProsperRating (Alpha)',y='LoanOriginalAmount',hue=df['LoanStatus'],data=df)"
   ]
  },
  {
   "cell_type": "markdown",
   "metadata": {},
   "source": [
    "# D. Display the catplot for ProsperRating (Alpha) vs ListingCategory (numeric)[Debt Consolidation,Other,Business,Home Improvement,Auto] and hue = Loan Status[Completed,Defaulted]. Write your observations"
   ]
  },
  {
   "cell_type": "code",
   "execution_count": 217,
   "metadata": {},
   "outputs": [
    {
     "data": {
      "text/plain": [
       "<seaborn.axisgrid.FacetGrid at 0x2494d5ce280>"
      ]
     },
     "execution_count": 217,
     "metadata": {},
     "output_type": "execute_result"
    },
    {
     "data": {
      "image/png": "[encoded data removed]",
      "text/plain": [
       "<Figure size 506.875x360 with 1 Axes>"
      ]
     },
     "metadata": {
      "needs_background": "light"
     },
     "output_type": "display_data"
    }
   ],
   "source": [
    "#df=pd.DataFrame(data[(data['LoanStatus']=='Completed') | (data['LoanStatus']=='Defaulted')])\n",
    "sns.catplot(x='ProsperRating (Alpha)',y='ListingCategory (numeric)',hue='LoanStatus',data=data)"
   ]
  },
  {
   "cell_type": "code",
   "execution_count": null,
   "metadata": {},
   "outputs": [],
   "source": []
  }
 ],
 "metadata": {
  "kernelspec": {
   "display_name": "Python 3 (ipykernel)",
   "language": "python",
   "name": "python3"
  },
  "language_info": {
   "codemirror_mode": {
    "name": "ipython",
    "version": 3
   },
   "file_extension": ".py",
   "mimetype": "text/x-python",
   "name": "python",
   "nbconvert_exporter": "python",
   "pygments_lexer": "ipython3",
   "version": "3.9.12"
  }
 },
 "nbformat": 4,
 "nbformat_minor": 4
}
